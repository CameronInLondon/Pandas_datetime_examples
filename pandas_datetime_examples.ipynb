# libraries imports
import pandas as pd
import numpy as np
import datetime as dt
import openpyxl
import html5lib
print(pd.__version__)
print(openpyxl.__version__)


# testing datetime in pandas

d = {'date': ['1/2/2000'], 'date2': ['01/02/2000'], 'date3': ['1-2-2000'], 'date4': ['1.2.2000']}
df = pd.DataFrame(data=d)
df.info()
df.loc[:,:] = df.loc[:,:].apply(pd.to_datetime)
df.info()
df
