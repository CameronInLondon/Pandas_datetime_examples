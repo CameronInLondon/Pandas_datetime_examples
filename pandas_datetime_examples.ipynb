{
 "cells": [
  {
   "cell_type": "code",
   "execution_count": 7,
   "source": [
    "# libraries imports\r\n",
    "import pandas as pd\r\n",
    "import numpy as np\r\n",
    "import datetime as dt\r\n",
    "import openpyxl\r\n",
    "import html5lib\r\n",
    "print(pd.__version__)\r\n",
    "print(openpyxl.__version__)\r\n"
   ],
   "outputs": [
    {
     "output_type": "stream",
     "name": "stdout",
     "text": [
      "1.2.4\n",
      "3.0.7\n"
     ]
    }
   ],
   "metadata": {}
  },
  {
   "cell_type": "code",
   "execution_count": 1,
   "source": [
    "# testing datetime in pandas\r\n",
    "\r\n",
    "d = {'date': ['1/2/2000'], 'date2': ['01/02/2000'], 'date3': ['1-2-2000'], 'date4': ['1.2.2000']}\r\n",
    "df = pd.DataFrame(data=d)\r\n",
    "df.info()\r\n",
    "df.loc[:,:] = df.loc[:,:].apply(pd.to_datetime)\r\n",
    "df.info()\r\n",
    "df"
   ],
   "outputs": [
    {
     "output_type": "error",
     "ename": "NameError",
     "evalue": "name 'pd' is not defined",
     "traceback": [
      "\u001b[1;31m---------------------------------------------------------------------------\u001b[0m",
      "\u001b[1;31mNameError\u001b[0m                                 Traceback (most recent call last)",
      "\u001b[1;32m<ipython-input-1-b2d03dbd4fa4>\u001b[0m in \u001b[0;36m<module>\u001b[1;34m\u001b[0m\n\u001b[0;32m      2\u001b[0m \u001b[1;33m\u001b[0m\u001b[0m\n\u001b[0;32m      3\u001b[0m \u001b[0md\u001b[0m \u001b[1;33m=\u001b[0m \u001b[1;33m{\u001b[0m\u001b[1;34m'date'\u001b[0m\u001b[1;33m:\u001b[0m \u001b[1;33m[\u001b[0m\u001b[1;34m'1/2/2000'\u001b[0m\u001b[1;33m]\u001b[0m\u001b[1;33m,\u001b[0m \u001b[1;34m'date2'\u001b[0m\u001b[1;33m:\u001b[0m \u001b[1;33m[\u001b[0m\u001b[1;34m'01/02/2000'\u001b[0m\u001b[1;33m]\u001b[0m\u001b[1;33m,\u001b[0m \u001b[1;34m'date3'\u001b[0m\u001b[1;33m:\u001b[0m \u001b[1;33m[\u001b[0m\u001b[1;34m'1-2-2000'\u001b[0m\u001b[1;33m]\u001b[0m\u001b[1;33m,\u001b[0m \u001b[1;34m'date4'\u001b[0m\u001b[1;33m:\u001b[0m \u001b[1;33m[\u001b[0m\u001b[1;34m'1.2.2000'\u001b[0m\u001b[1;33m]\u001b[0m\u001b[1;33m}\u001b[0m\u001b[1;33m\u001b[0m\u001b[1;33m\u001b[0m\u001b[0m\n\u001b[1;32m----> 4\u001b[1;33m \u001b[0mdf\u001b[0m \u001b[1;33m=\u001b[0m \u001b[0mpd\u001b[0m\u001b[1;33m.\u001b[0m\u001b[0mDataFrame\u001b[0m\u001b[1;33m(\u001b[0m\u001b[0mdata\u001b[0m\u001b[1;33m=\u001b[0m\u001b[0md\u001b[0m\u001b[1;33m)\u001b[0m\u001b[1;33m\u001b[0m\u001b[1;33m\u001b[0m\u001b[0m\n\u001b[0m\u001b[0;32m      5\u001b[0m \u001b[0mdf\u001b[0m\u001b[1;33m.\u001b[0m\u001b[0minfo\u001b[0m\u001b[1;33m(\u001b[0m\u001b[1;33m)\u001b[0m\u001b[1;33m\u001b[0m\u001b[1;33m\u001b[0m\u001b[0m\n\u001b[0;32m      6\u001b[0m \u001b[0mdf\u001b[0m\u001b[1;33m.\u001b[0m\u001b[0mloc\u001b[0m\u001b[1;33m[\u001b[0m\u001b[1;33m:\u001b[0m\u001b[1;33m,\u001b[0m\u001b[1;33m:\u001b[0m\u001b[1;33m]\u001b[0m \u001b[1;33m=\u001b[0m \u001b[0mdf\u001b[0m\u001b[1;33m.\u001b[0m\u001b[0mloc\u001b[0m\u001b[1;33m[\u001b[0m\u001b[1;33m:\u001b[0m\u001b[1;33m,\u001b[0m\u001b[1;33m:\u001b[0m\u001b[1;33m]\u001b[0m\u001b[1;33m.\u001b[0m\u001b[0mapply\u001b[0m\u001b[1;33m(\u001b[0m\u001b[0mpd\u001b[0m\u001b[1;33m.\u001b[0m\u001b[0mto_datetime\u001b[0m\u001b[1;33m)\u001b[0m\u001b[1;33m\u001b[0m\u001b[1;33m\u001b[0m\u001b[0m\n",
      "\u001b[1;31mNameError\u001b[0m: name 'pd' is not defined"
     ]
    }
   ],
   "metadata": {}
  },
  {
   "cell_type": "code",
   "execution_count": 37,
   "source": [
    "# testing datetime in pandas - with UK dates one per series\r\n",
    "\r\n",
    "d = {'date': ['13/2/2000'], 'date2': ['14/02/2000'], 'date3': ['15-2-2000'], 'date4': ['16.2.2000']}\r\n",
    "df = pd.DataFrame(data=d)\r\n",
    "df.info()\r\n",
    "\r\n",
    "df[['date', 'date2', 'date3', 'date4']] = df[['date', 'date2', 'date3', 'date4']].apply(pd.to_datetime)\r\n",
    "df.info()\r\n",
    "df\r\n",
    "# No problem\r\n"
   ],
   "outputs": [
    {
     "output_type": "stream",
     "name": "stdout",
     "text": [
      "<class 'pandas.core.frame.DataFrame'>\n",
      "RangeIndex: 1 entries, 0 to 0\n",
      "Data columns (total 4 columns):\n",
      " #   Column  Non-Null Count  Dtype \n",
      "---  ------  --------------  ----- \n",
      " 0   date    1 non-null      object\n",
      " 1   date2   1 non-null      object\n",
      " 2   date3   1 non-null      object\n",
      " 3   date4   1 non-null      object\n",
      "dtypes: object(4)\n",
      "memory usage: 160.0+ bytes\n",
      "<class 'pandas.core.frame.DataFrame'>\n",
      "RangeIndex: 1 entries, 0 to 0\n",
      "Data columns (total 4 columns):\n",
      " #   Column  Non-Null Count  Dtype         \n",
      "---  ------  --------------  -----         \n",
      " 0   date    1 non-null      datetime64[ns]\n",
      " 1   date2   1 non-null      datetime64[ns]\n",
      " 2   date3   1 non-null      datetime64[ns]\n",
      " 3   date4   1 non-null      datetime64[ns]\n",
      "dtypes: datetime64[ns](4)\n",
      "memory usage: 160.0 bytes\n"
     ]
    }
   ],
   "metadata": {}
  },
  {
   "cell_type": "code",
   "execution_count": 39,
   "source": [
    "# Now with all UK in one series\r\n",
    "d = ['13/2/2000', '14/02/2000', '15-2-2000', '16.2.2000']\r\n",
    "s = pd.Series(d)\r\n",
    "s = pd.to_datetime(s)\r\n",
    "s\r\n",
    "\r\n",
    "# Again pandas works out these are UK dates because they are all clearly in the same style"
   ],
   "outputs": [
    {
     "output_type": "execute_result",
     "data": {
      "text/plain": [
       "0   2000-02-13\n",
       "1   2000-02-14\n",
       "2   2000-02-15\n",
       "3   2000-02-16\n",
       "dtype: datetime64[ns]"
      ]
     },
     "metadata": {},
     "execution_count": 39
    }
   ],
   "metadata": {}
  },
  {
   "cell_type": "code",
   "execution_count": 40,
   "source": [
    "# Now UK dates but less clear on if they are UK or US style.\r\n",
    "d = ['1/2/2000', '2/02/2000', '2-3-2000', '16.2.2000']\r\n",
    "s = pd.Series(d)\r\n",
    "s = pd.to_datetime(s)\r\n",
    "s\r\n",
    "\r\n",
    "# Three of the dates could be US dates and still Pandas has seen one UK date and so knows the series is of UK dates."
   ],
   "outputs": [
    {
     "output_type": "execute_result",
     "data": {
      "text/plain": [
       "0   2000-01-02\n",
       "1   2000-02-02\n",
       "2   2000-02-03\n",
       "3   2000-02-16\n",
       "dtype: datetime64[ns]"
      ]
     },
     "metadata": {},
     "execution_count": 40
    }
   ],
   "metadata": {}
  },
  {
   "cell_type": "code",
   "execution_count": 30,
   "source": [
    "# get range of date style examples\r\n",
    "http = r'https://www.ibm.com/docs/en/cmofz/10.1.0?topic=SSQHWE_10.1.0/com.ibm.ondemand.mp.doc/arsa0257.htm'\r\n",
    "table = pd.read_html(http)\r\n",
    "table\r\n",
    "df = table[0]\r\n",
    "df\r\n",
    "\r\n",
    "# test which datestyles pandas can convert\r\n",
    "df['Example'] = pd.to_datetime(df['Example'])\r\n",
    "df.info()\r\n",
    "df\r\n",
    "# yes it converted all of them!!"
   ],
   "outputs": [
    {
     "output_type": "stream",
     "name": "stdout",
     "text": [
      "<class 'pandas.core.frame.DataFrame'>\n",
      "RangeIndex: 25 entries, 0 to 24\n",
      "Data columns (total 3 columns):\n",
      " #   Column            Non-Null Count  Dtype         \n",
      "---  ------            --------------  -----         \n",
      " 0   Format Specifier  25 non-null     object        \n",
      " 1   Format            25 non-null     object        \n",
      " 2   Example           25 non-null     datetime64[ns]\n",
      "dtypes: datetime64[ns](1), object(2)\n",
      "memory usage: 728.0+ bytes\n"
     ]
    }
   ],
   "metadata": {}
  },
  {
   "cell_type": "code",
   "execution_count": 43,
   "source": [
    "# Now with some junk that can not be converted to dates\r\n",
    "# d = ['1/2/2000', '2/02/2000', 'test', '16.2.2000']\r\n",
    "# s = pd.Series(d)\r\n",
    "# s = pd.to_datetime(s)\r\n",
    "# s\r\n",
    "\r\n",
    "# ParserError: Unknown string format: test\r\n",
    "\r\n",
    "# But using the errors='coerce' parameter fixed this by filling the none dates with NaT (not a time)\r\n",
    "d = ['1/2/2000', '2/02/2000', 'test', '16.2.2000']\r\n",
    "s = pd.Series(d)\r\n",
    "s = pd.to_datetime(s, errors='coerce')\r\n",
    "s\r\n"
   ],
   "outputs": [
    {
     "output_type": "execute_result",
     "data": {
      "text/plain": [
       "0   2000-01-02\n",
       "1   2000-02-02\n",
       "2          NaT\n",
       "3   2000-02-16\n",
       "dtype: datetime64[ns]"
      ]
     },
     "metadata": {},
     "execution_count": 43
    }
   ],
   "metadata": {}
  },
  {
   "cell_type": "code",
   "execution_count": 12,
   "source": [
    "# taken a sample from https://stackoverflow.com/questions/6194285/dealing-with-messy-dates\r\n",
    "messy_dates = [\"May2/ 12 noon\", \"9:45 am\", \"11:00 AM AST\", \"April 27 / 12:00 AST\", \r\n",
    "\"11:40 AM AST\", \"April 25 2011\", \"April 12th 2011 / 8:44\", \"April 12 2011 / 8:36am\", \r\n",
    "\"April 12 2011 / 8:30am\", \"April 12th 2011 / 8:18\", \"April 12 2011 / 8:12am\", \r\n",
    "\"April 11th 2011 / 5:57pm\", \"April 11th 2011 / 5:49pm\", \"April 11th 2011 / 5:42pm\", \r\n",
    "\"April 11th 2011 / 5:36pm\", \"April 11th 2011 / 5:27\", \"April 5 @ 11:26am\", \r\n",
    "\"8:50\", \"April 4th 12:45pm\", \"April 4th around 10am\", \"April 4th around 10am\", \r\n",
    "\"Mar 18, 2011 9:33am\", \"Mar 18, 2011 9:27am\", \"df\", \"fg\", \"12:16\", \r\n",
    "\"9:50\", \"Feb 8, 2011 / 12:20pm\", \"8:34 am  2/4/11\", \"Jan 31, 2011 2:50pm\", \r\n",
    "\"Jan 31, 2011 2:45pm\", \"Jan 31, 2011 2:38pm\", \"Jan 31, 2011 2:26pm\", \r\n",
    "\"11h09\", \"11:00 am\", \"1h02 pm\", \"10h03\", \"2h10\", \"Jan 13, 2011 9:50am Van\", \r\n",
    "\"Jan 12, 2011\", \"Jan 12, 2011 3:59pm\", \"Jan 12     14:19PM\", \r\n",
    "\"Jan 12, 2011 1:35pm\", \"Jan 12,2011 1:28pm\", \"1h36\", \"9h15\", \r\n",
    "\"9h09\", \"8h51\", \"8h45\", \"8h35\", \"1h12 pm\", \"12h59\", \"11h52 am\", \r\n",
    "\"10h45\", \"15h55\", \"Dec 31, 10 11:11am\", \"Dec 31,10 10:15am\"]"
   ],
   "outputs": [],
   "metadata": {}
  },
  {
   "cell_type": "code",
   "execution_count": 27,
   "source": [
    "s = pd.Series(messy_dates)\r\n",
    "s = pd.to_datetime(s, errors='coerce')\r\n",
    "# len(s)            # 57 total\r\n",
    "# s.count()         # 30 dates\r\n",
    "# s.isna().sum()    # 27 NaT\r\n"
   ],
   "outputs": [
    {
     "output_type": "execute_result",
     "data": {
      "text/plain": [
       "57"
      ]
     },
     "metadata": {},
     "execution_count": 27
    }
   ],
   "metadata": {}
  },
  {
   "cell_type": "code",
   "execution_count": 43,
   "source": [
    "# So which ones worked and did not?\r\n",
    "df = pd.DataFrame({'dates': messy_dates})\r\n",
    "df.info()\r\n",
    "df['clean_dates'] = pd.to_datetime(df['dates'], errors='coerce')\r\n",
    "\r\n",
    "# ones that where not converted \r\n",
    "df.loc[df['clean_dates'].isna()]\r\n",
    "\r\n",
    "# ones that were converted - Note times on their own were given todays date\r\n",
    "# df.loc[df['clean_dates'].notna()]"
   ],
   "outputs": [
    {
     "output_type": "stream",
     "name": "stdout",
     "text": [
      "<class 'pandas.core.frame.DataFrame'>\n",
      "RangeIndex: 57 entries, 0 to 56\n",
      "Data columns (total 1 columns):\n",
      " #   Column  Non-Null Count  Dtype \n",
      "---  ------  --------------  ----- \n",
      " 0   dates   57 non-null     object\n",
      "dtypes: object(1)\n",
      "memory usage: 584.0+ bytes\n"
     ]
    },
    {
     "output_type": "stream",
     "name": "stderr",
     "text": [
      "C:\\Users\\goldsby_c\\AppData\\Local\\Programs\\Python\\Python39\\lib\\site-packages\\dateutil\\parser\\_parser.py:1213: UnknownTimezoneWarning: tzname AST identified but not understood.  Pass `tzinfos` argument in order to correctly return a timezone-aware datetime.  In a future version, this will raise an exception.\n",
      "  warnings.warn(\"tzname {tzname} identified but not understood.  \"\n"
     ]
    },
    {
     "output_type": "execute_result",
     "data": {
      "text/plain": [
       "                      dates clean_dates\n",
       "0             May2/ 12 noon         NaT\n",
       "3      April 27 / 12:00 AST         NaT\n",
       "16        April 5 @ 11:26am         NaT\n",
       "18        April 4th 12:45pm         NaT\n",
       "19    April 4th around 10am         NaT\n",
       "20    April 4th around 10am         NaT\n",
       "23                       df         NaT\n",
       "24                       fg         NaT\n",
       "33                    11h09         NaT\n",
       "35                  1h02 pm         NaT\n",
       "36                    10h03         NaT\n",
       "37                     2h10         NaT\n",
       "38  Jan 13, 2011 9:50am Van         NaT\n",
       "41       Jan 12     14:19PM         NaT\n",
       "43       Jan 12,2011 1:28pm         NaT\n",
       "44                     1h36         NaT\n",
       "45                     9h15         NaT\n",
       "46                     9h09         NaT\n",
       "47                     8h51         NaT\n",
       "48                     8h45         NaT\n",
       "49                     8h35         NaT\n",
       "50                  1h12 pm         NaT\n",
       "51                    12h59         NaT\n",
       "52                 11h52 am         NaT\n",
       "53                    10h45         NaT\n",
       "54                    15h55         NaT\n",
       "56        Dec 31,10 10:15am         NaT"
      ],
      "text/html": [
       "<div>\n",
       "<style scoped>\n",
       "    .dataframe tbody tr th:only-of-type {\n",
       "        vertical-align: middle;\n",
       "    }\n",
       "\n",
       "    .dataframe tbody tr th {\n",
       "        vertical-align: top;\n",
       "    }\n",
       "\n",
       "    .dataframe thead th {\n",
       "        text-align: right;\n",
       "    }\n",
       "</style>\n",
       "<table border=\"1\" class=\"dataframe\">\n",
       "  <thead>\n",
       "    <tr style=\"text-align: right;\">\n",
       "      <th></th>\n",
       "      <th>dates</th>\n",
       "      <th>clean_dates</th>\n",
       "    </tr>\n",
       "  </thead>\n",
       "  <tbody>\n",
       "    <tr>\n",
       "      <th>0</th>\n",
       "      <td>May2/ 12 noon</td>\n",
       "      <td>NaT</td>\n",
       "    </tr>\n",
       "    <tr>\n",
       "      <th>3</th>\n",
       "      <td>April 27 / 12:00 AST</td>\n",
       "      <td>NaT</td>\n",
       "    </tr>\n",
       "    <tr>\n",
       "      <th>16</th>\n",
       "      <td>April 5 @ 11:26am</td>\n",
       "      <td>NaT</td>\n",
       "    </tr>\n",
       "    <tr>\n",
       "      <th>18</th>\n",
       "      <td>April 4th 12:45pm</td>\n",
       "      <td>NaT</td>\n",
       "    </tr>\n",
       "    <tr>\n",
       "      <th>19</th>\n",
       "      <td>April 4th around 10am</td>\n",
       "      <td>NaT</td>\n",
       "    </tr>\n",
       "    <tr>\n",
       "      <th>20</th>\n",
       "      <td>April 4th around 10am</td>\n",
       "      <td>NaT</td>\n",
       "    </tr>\n",
       "    <tr>\n",
       "      <th>23</th>\n",
       "      <td>df</td>\n",
       "      <td>NaT</td>\n",
       "    </tr>\n",
       "    <tr>\n",
       "      <th>24</th>\n",
       "      <td>fg</td>\n",
       "      <td>NaT</td>\n",
       "    </tr>\n",
       "    <tr>\n",
       "      <th>33</th>\n",
       "      <td>11h09</td>\n",
       "      <td>NaT</td>\n",
       "    </tr>\n",
       "    <tr>\n",
       "      <th>35</th>\n",
       "      <td>1h02 pm</td>\n",
       "      <td>NaT</td>\n",
       "    </tr>\n",
       "    <tr>\n",
       "      <th>36</th>\n",
       "      <td>10h03</td>\n",
       "      <td>NaT</td>\n",
       "    </tr>\n",
       "    <tr>\n",
       "      <th>37</th>\n",
       "      <td>2h10</td>\n",
       "      <td>NaT</td>\n",
       "    </tr>\n",
       "    <tr>\n",
       "      <th>38</th>\n",
       "      <td>Jan 13, 2011 9:50am Van</td>\n",
       "      <td>NaT</td>\n",
       "    </tr>\n",
       "    <tr>\n",
       "      <th>41</th>\n",
       "      <td>Jan 12     14:19PM</td>\n",
       "      <td>NaT</td>\n",
       "    </tr>\n",
       "    <tr>\n",
       "      <th>43</th>\n",
       "      <td>Jan 12,2011 1:28pm</td>\n",
       "      <td>NaT</td>\n",
       "    </tr>\n",
       "    <tr>\n",
       "      <th>44</th>\n",
       "      <td>1h36</td>\n",
       "      <td>NaT</td>\n",
       "    </tr>\n",
       "    <tr>\n",
       "      <th>45</th>\n",
       "      <td>9h15</td>\n",
       "      <td>NaT</td>\n",
       "    </tr>\n",
       "    <tr>\n",
       "      <th>46</th>\n",
       "      <td>9h09</td>\n",
       "      <td>NaT</td>\n",
       "    </tr>\n",
       "    <tr>\n",
       "      <th>47</th>\n",
       "      <td>8h51</td>\n",
       "      <td>NaT</td>\n",
       "    </tr>\n",
       "    <tr>\n",
       "      <th>48</th>\n",
       "      <td>8h45</td>\n",
       "      <td>NaT</td>\n",
       "    </tr>\n",
       "    <tr>\n",
       "      <th>49</th>\n",
       "      <td>8h35</td>\n",
       "      <td>NaT</td>\n",
       "    </tr>\n",
       "    <tr>\n",
       "      <th>50</th>\n",
       "      <td>1h12 pm</td>\n",
       "      <td>NaT</td>\n",
       "    </tr>\n",
       "    <tr>\n",
       "      <th>51</th>\n",
       "      <td>12h59</td>\n",
       "      <td>NaT</td>\n",
       "    </tr>\n",
       "    <tr>\n",
       "      <th>52</th>\n",
       "      <td>11h52 am</td>\n",
       "      <td>NaT</td>\n",
       "    </tr>\n",
       "    <tr>\n",
       "      <th>53</th>\n",
       "      <td>10h45</td>\n",
       "      <td>NaT</td>\n",
       "    </tr>\n",
       "    <tr>\n",
       "      <th>54</th>\n",
       "      <td>15h55</td>\n",
       "      <td>NaT</td>\n",
       "    </tr>\n",
       "    <tr>\n",
       "      <th>56</th>\n",
       "      <td>Dec 31,10 10:15am</td>\n",
       "      <td>NaT</td>\n",
       "    </tr>\n",
       "  </tbody>\n",
       "</table>\n",
       "</div>"
      ]
     },
     "metadata": {},
     "execution_count": 43
    }
   ],
   "metadata": {}
  }
 ],
 "metadata": {
  "kernelspec": {
   "name": "python3",
   "display_name": "Python 3.9.0 64-bit"
  },
  "language_info": {
   "codemirror_mode": {
    "name": "ipython",
    "version": 3
   },
   "file_extension": ".py",
   "mimetype": "text/x-python",
   "name": "python",
   "nbconvert_exporter": "python",
   "pygments_lexer": "ipython3",
   "version": "3.9.0"
  },
  "metadata": {
   "interpreter": {
    "hash": "fc9057596245d7535fa07eedd95154ffc92e0f515bc2c4104d7d4a08bfa9ae7a"
   }
  },
  "interpreter": {
   "hash": "fc9057596245d7535fa07eedd95154ffc92e0f515bc2c4104d7d4a08bfa9ae7a"
  }
 },
 "nbformat": 4,
 "nbformat_minor": 4
}
